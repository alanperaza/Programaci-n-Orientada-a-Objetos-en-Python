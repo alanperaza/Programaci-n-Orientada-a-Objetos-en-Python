{
 "cells": [
  {
   "cell_type": "markdown",
   "metadata": {},
   "source": [
    "# Programación Orientada a Objetos en Python."
   ]
  },
  {
   "cell_type": "markdown",
   "metadata": {},
   "source": [
    "En esta Jupyter Notebook están mis apuntes hechos a partir de una serie de vídeos de Corey Schafer.\n",
    "\n",
    "Si quieres ver la serie, puedes encontrarla [aquí](https://www.youtube.com/playlist?list=PL-osiE80TeTsqhIuOqKhwlXsIBIdSeYtc). (Está en inglés)."
   ]
  },
  {
   "cell_type": "markdown",
   "metadata": {},
   "source": [
    "### Clases."
   ]
  },
  {
   "cell_type": "markdown",
   "metadata": {},
   "source": [
    "Si pudieramos definir a las clases con una sola palabra, \"plantilla\" sería la más adecuada. Esto puede entenderse mejor con un ejemplo:\n",
    "\n",
    "Supongamos que tienes que hacer un programa que funciona como base de datos para una empresa. Debes de tener información como:\n",
    "- Nombres\n",
    "- Apellidos\n",
    "- E-mails\n",
    "- Sueldos\n",
    "- Puestos\n",
    "\n",
    "Y un largo etcétera. Es probable que hayas pensado en algo así:"
   ]
  },
  {
   "cell_type": "code",
   "execution_count": 1,
   "metadata": {},
   "outputs": [],
   "source": [
    "# Información de empleados\n",
    "nombreEmpl = \"Pedro\"\n",
    "apellidoEmpl = \"Fernández\"\n",
    "mailEmpl = nombreEmpl + apellidoEmpl + \"@empresa.com\"\n",
    "puestoEmpl = \"Gerente\""
   ]
  },
  {
   "cell_type": "markdown",
   "metadata": {},
   "source": [
    "Ahora imagina hacer el mismo proceso cada vez que estás registrando un empleado. Eso es demasiado código, y los errores de escritura son muy probables.\n",
    "\n",
    "Lo que propone la Programación Orientada a Objetos es tener una clase (en este caso una clase Empleado), de tal manera que cada vez que registremos un empleado utilicemos una plantilla que contendrá todas las características para un empleado. Más adelante vrás lo mucho que nos ahorraremos en código."
   ]
  },
  {
   "cell_type": "markdown",
   "metadata": {},
   "source": [
    "Las clases en Python se crean así:"
   ]
  },
  {
   "cell_type": "code",
   "execution_count": 2,
   "metadata": {},
   "outputs": [],
   "source": [
    "# Crear una clase empleado\n",
    "class Empleado:\n",
    "    pass # Python reconoce que quiero \"evitar\" esto por ahora"
   ]
  },
  {
   "cell_type": "markdown",
   "metadata": {},
   "source": [
    "En esta ocasión utilicé `pass` porque todavía no utilizaremos la clase."
   ]
  },
  {
   "cell_type": "markdown",
   "metadata": {},
   "source": [
    "Clase: Una plantilla para crear instancias. En este ejemplo, cada empleado único que creemos a partir de la clase Empleado, será una estancia de esa clase.\n"
   ]
  },
  {
   "cell_type": "markdown",
   "metadata": {},
   "source": [
    "### Instancias."
   ]
  },
  {
   "cell_type": "markdown",
   "metadata": {},
   "source": [
    "Las instancias, en este ejemplo, serán todos aquellos empleados que hayan sido creados a partir de la clase `Empleado`."
   ]
  },
  {
   "cell_type": "code",
   "execution_count": 3,
   "metadata": {},
   "outputs": [],
   "source": [
    "class Empleado:\n",
    "    pass\n",
    "\n",
    "# Instancias de la clase\n",
    "emp_1 = Empleado()\n",
    "emp_2 = Empleado()"
   ]
  },
  {
   "cell_type": "markdown",
   "metadata": {},
   "source": [
    "**emp_1** y **emp2** son instancias únicas de la clase `Empleado`"
   ]
  },
  {
   "cell_type": "markdown",
   "metadata": {},
   "source": [
    "¿Cómo saber que son únicas? Están en **distintas locaciones de memoria**."
   ]
  },
  {
   "cell_type": "code",
   "execution_count": 4,
   "metadata": {},
   "outputs": [
    {
     "name": "stdout",
     "output_type": "stream",
     "text": [
      "<__main__.Empleado object at 0x0000023EA65CD148> ubicación de memoria de emp_1\n"
     ]
    }
   ],
   "source": [
    "print(emp_1, \"ubicación de memoria de emp_1\")"
   ]
  },
  {
   "cell_type": "code",
   "execution_count": 5,
   "metadata": {},
   "outputs": [
    {
     "name": "stdout",
     "output_type": "stream",
     "text": [
      "<__main__.Empleado object at 0x0000023EA65CD188> ubicación de memoria de emp_1\n"
     ]
    }
   ],
   "source": [
    "print(emp_2, \"ubicación de memoria de emp_1\")"
   ]
  },
  {
   "cell_type": "markdown",
   "metadata": {},
   "source": [
    "### Variables de instancia."
   ]
  },
  {
   "cell_type": "markdown",
   "metadata": {},
   "source": [
    "Las **variables de instancia** contienen datos que son únicos de cada instancia. Podemos crearlas manualmente:"
   ]
  },
  {
   "cell_type": "code",
   "execution_count": 6,
   "metadata": {},
   "outputs": [],
   "source": [
    "# Datos únicos del empleado 1\n",
    "emp_1.nombre = \"Alan\"\n",
    "emp_1.apellido = \"Peraza\"\n",
    "emp_1.paga = 30000"
   ]
  },
  {
   "cell_type": "code",
   "execution_count": 7,
   "metadata": {},
   "outputs": [],
   "source": [
    "# Datos únicos del empleado 2\n",
    "emp_2.nombre = \"Juan\"\n",
    "emp_2.apellido = \"Pérez\"\n",
    "emp_2.paga = 50000"
   ]
  },
  {
   "cell_type": "markdown",
   "metadata": {},
   "source": [
    "Como podrás imaginar, *nombre*, *apellido* y *paga* son todas variables de las instancias **emp_1** y **emp_2**."
   ]
  },
  {
   "cell_type": "code",
   "execution_count": 8,
   "metadata": {},
   "outputs": [
    {
     "name": "stdout",
     "output_type": "stream",
     "text": [
      "Alan\n",
      "Juan\n"
     ]
    }
   ],
   "source": [
    "# Imprimir la variable nombre de cada instancia.\n",
    "print(emp_1.nombre)\n",
    "print(emp_2.nombre)"
   ]
  },
  {
   "cell_type": "markdown",
   "metadata": {},
   "source": [
    "### Métodos."
   ]
  },
  {
   "cell_type": "markdown",
   "metadata": {},
   "source": [
    "Seguramente te diste cuenta de que esto sería muy tardado también (Definir nombres individuales cada vez que creamos una instancia de la clase Empleado). Sería mucho más cómodo que se estableciera que todo trabajador tuviera un nombre y apellido siempre que sean creados. \n",
    "\n",
    "Para que estas **variables de instancia** sean establecidas una vez creada una instancia de clase, usaremos el método `init`."
   ]
  },
  {
   "cell_type": "markdown",
   "metadata": {},
   "source": [
    "Un método es la forma de definir una determinada acción que realiza un objeto. Por ejemplo, en el código debajo el **método** `init` define que cuando cree una instancia de la clase `Empleado` se creen las **variables** `nombre`, `apellido`, `paga` y `email` automáticamente."
   ]
  },
  {
   "cell_type": "code",
   "execution_count": 9,
   "metadata": {},
   "outputs": [],
   "source": [
    "class Empleado:\n",
    "    \n",
    "    def __init__(self, nombre, apellido, paga): # Cada vez que una instancia sea creada, tendrá nombre, apellido y paga.\n",
    "        \n",
    "        self.nombre = nombre # Foramto: instancia.variable = variable\n",
    "        self.apellido = apellido\n",
    "        self.paga = paga\n",
    "        \n",
    "        # En lugar de tener self.email, podemos formarlo a partir del nombre y apellido\n",
    "        # Nos podemos ahorrar un argumento!\n",
    "        \n",
    "        self.email = nombre + '.' + apellido + '@upy.edu.mx'"
   ]
  },
  {
   "cell_type": "markdown",
   "metadata": {},
   "source": [
    "Cuando creamos métodos dentro de una clase, reciben como primer argumento la instancia (lo hace automáticamente y por convención). Esta instancia recibe el nombre de **`self`**.\n",
    "\n",
    "Despúes de *self*, podemos agregar los otros argumentos que queremos aceptar. En este ejemplo, esos \"otros argumentos\" serán el primer nombre, el apellido y la paga."
   ]
  },
  {
   "cell_type": "markdown",
   "metadata": {},
   "source": [
    "Ahora, cuando creemos una instancia de la clase empleado, podemos pasar los respectivos argumentos. La sintaxis es muy parecida a pasar argumentos a una función:"
   ]
  },
  {
   "cell_type": "code",
   "execution_count": 10,
   "metadata": {},
   "outputs": [],
   "source": [
    " # La instancia (self) es creada automáticamente. Debes pasar los argumentos en orden\n",
    "emp_1 = Empleado(\"Esteban\", \"Quito\", 40000)"
   ]
  },
  {
   "cell_type": "markdown",
   "metadata": {},
   "source": [
    "**¡Recuerda!** No se pasa `self` cuando creas una instancia. Python lo hace automáticamente."
   ]
  },
  {
   "cell_type": "markdown",
   "metadata": {},
   "source": [
    "Intenta pasar un argumento más. El programa debe tirar un error!"
   ]
  },
  {
   "cell_type": "code",
   "execution_count": 11,
   "metadata": {},
   "outputs": [],
   "source": [
    "# emp_n = Empleado(\"Esteban\", \"Quito\", 40000, \"Gerente\")"
   ]
  },
  {
   "cell_type": "markdown",
   "metadata": {},
   "source": [
    "Podemos ver las **instance variables** con el formato *instancia.variable*"
   ]
  },
  {
   "cell_type": "code",
   "execution_count": 12,
   "metadata": {},
   "outputs": [
    {
     "name": "stdout",
     "output_type": "stream",
     "text": [
      "Esteban\n"
     ]
    }
   ],
   "source": [
    "# Ver su nombre\n",
    "print(emp_1.nombre)"
   ]
  },
  {
   "cell_type": "code",
   "execution_count": 13,
   "metadata": {},
   "outputs": [
    {
     "name": "stdout",
     "output_type": "stream",
     "text": [
      "Esteban.Quito@upy.edu.mx\n"
     ]
    }
   ],
   "source": [
    "# Ver correo\n",
    "print(emp_1.email)"
   ]
  },
  {
   "cell_type": "markdown",
   "metadata": {},
   "source": [
    "Todo lo quetenemos hasta ahora (nombre, apellido, mail...) son **atributos** de nuestra clase. \n",
    "\n",
    "Suponiendo que quieras escribir el nombre completo de un empleado, podrías hacer algo como:"
   ]
  },
  {
   "cell_type": "code",
   "execution_count": 14,
   "metadata": {},
   "outputs": [
    {
     "name": "stdout",
     "output_type": "stream",
     "text": [
      "Esteban Quito\n"
     ]
    }
   ],
   "source": [
    "print('{} {}'.format(emp_1.nombre, emp_1.apellido))"
   ]
  },
  {
   "cell_type": "markdown",
   "metadata": {},
   "source": [
    "Pero, una vez más, eso es mucho código si es que queremos hacerlo muchas veces. En este caso, sería mejor tener un **método** para ello."
   ]
  },
  {
   "cell_type": "code",
   "execution_count": 20,
   "metadata": {},
   "outputs": [],
   "source": [
    "class Empleado:\n",
    "    \n",
    "    def __init__(self, nombre, apellido, paga):\n",
    "        \n",
    "        self.nombre = nombre # Instancia.variable = variable\n",
    "        self.apellido = apellido\n",
    "        self.paga = paga\n",
    "        \n",
    "        # En lugar de tener self.email, podemos formarlo a partir del nombre y apellido\n",
    "        self.email = nombre + '.' + apellido + '@upy.edu.mx'\n",
    "        \n",
    "    # Crear un método para mostrar el nombre completo.\n",
    "    def nombreCompleto(self): # Para mostrar el nombre completo solo necesitamos el self (que ya tiene nombre y apellido)\n",
    "        return '{} {}'.format(self.nombre, self.apellido)"
   ]
  },
  {
   "cell_type": "code",
   "execution_count": 21,
   "metadata": {},
   "outputs": [],
   "source": [
    "# Creamos la instancia\n",
    "emp_1 = Empleado(\"Armando\", \"Hoyos\", 123000)"
   ]
  },
  {
   "cell_type": "code",
   "execution_count": 23,
   "metadata": {},
   "outputs": [
    {
     "name": "stdout",
     "output_type": "stream",
     "text": [
      "Armando Hoyos\n"
     ]
    }
   ],
   "source": [
    "# Imprir el método nombreCompleto\n",
    "print(emp_1.nombreCompleto())"
   ]
  },
  {
   "cell_type": "markdown",
   "metadata": {},
   "source": [
    "**CUIDADO**: Poner `emp_1.nombreCompleto` sólo mostrará el método en lugar de regresar lo que el método pide (nombre completo).\n",
    "\n",
    "No olvides poner el paréntesis. Si no lo tuviera, Python lo reconoce como una **variable de instancia** (Como `nombre`, por ejemplo.)"
   ]
  },
  {
   "cell_type": "markdown",
   "metadata": {},
   "source": [
    "Puedes llamar un método de distintas formas:"
   ]
  },
  {
   "cell_type": "code",
   "execution_count": 24,
   "metadata": {},
   "outputs": [
    {
     "name": "stdout",
     "output_type": "stream",
     "text": [
      "Armando Hoyos\n",
      "Armando Hoyos\n"
     ]
    }
   ],
   "source": [
    "# Ambas líneas de código hacen lo mismo\n",
    "print(emp_1.nombreCompleto())\n",
    "print(Empleado.nombreCompleto(emp_1)) "
   ]
  },
  {
   "cell_type": "markdown",
   "metadata": {},
   "source": [
    "Es más común ver el primer ejemplo. Sin embargo, el segundo ejemplo te ayudará a entender que sucede detrás: Cuando llamamos el método `nombreCompleto` estamos entrando a la clase `Empleado`, luego ingresamos al método `nombreCompleto` y a ese método se le pasa (automáticamente) un self de la instancia con la que estamos trabajando."
   ]
  },
  {
   "cell_type": "markdown",
   "metadata": {},
   "source": [
    "Espero que esta notebook haya sido de ayuda. Pronto subiré las siguientes partes. 🙂"
   ]
  },
  {
   "cell_type": "code",
   "execution_count": null,
   "metadata": {},
   "outputs": [],
   "source": []
  }
 ],
 "metadata": {
  "kernelspec": {
   "display_name": "Python 3",
   "language": "python",
   "name": "python3"
  },
  "language_info": {
   "codemirror_mode": {
    "name": "ipython",
    "version": 3
   },
   "file_extension": ".py",
   "mimetype": "text/x-python",
   "name": "python",
   "nbconvert_exporter": "python",
   "pygments_lexer": "ipython3",
   "version": "3.7.4"
  }
 },
 "nbformat": 4,
 "nbformat_minor": 2
}
