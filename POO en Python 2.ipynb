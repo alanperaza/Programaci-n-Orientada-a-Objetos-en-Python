{
 "cells": [
  {
   "cell_type": "markdown",
   "metadata": {},
   "source": [
    "# Programación Orientada a Objetos en Python\n",
    "## Segunda Parte\n",
    "\n",
    "En esta notebook están mis apuntes del segundo vídeo de la serie de POO en Python de Corey Schafer. Recuerda que puedes encontrarla [aquí](https://www.youtube.com/playlist?list=PL-osiE80TeTsqhIuOqKhwlXsIBIdSeYtc)."
   ]
  },
  {
   "cell_type": "code",
   "execution_count": 1,
   "metadata": {},
   "outputs": [],
   "source": [
    "# En la notebook anterior, se llegó hasta aquí\n",
    "class Empleado:\n",
    "    \n",
    "    def __init__(self, nombre, apellido, paga):\n",
    "        \n",
    "        self.nombre = nombre # Instancia.variable = variable\n",
    "        self.apellido = apellido\n",
    "        self.paga = paga\n",
    "        \n",
    "        # En lugar de tener self.email, podemos formarlo a partir del nombre y apellido\n",
    "        self.email = nombre + '.' + apellido + '@upy.edu.mx'\n",
    "        \n",
    "    # Crear un método para mostrar el nombre completo.\n",
    "    def nombreCompleto(self): # Para mostrar el nombre completo solo necesitamos el self (que ya tiene nombre y apellido)\n",
    "        return '{} {}'.format(self.nombre, self.apellido)"
   ]
  },
  {
   "cell_type": "markdown",
   "metadata": {},
   "source": [
    "### Variables de clase\n",
    "\n",
    "Las **variables de clase** son variables que son compartidas entre todas las instancias de una clase. Recuerda que las **variables de instancia** son únicas para cada instancia (por ejemplo, dos empleados tienen nombres diferentes). \n",
    "\n",
    "Por ejemplo:\n",
    "Supongamos que la empresa de los empleados sube los sueldos en un 5% al año."
   ]
  },
  {
   "cell_type": "markdown",
   "metadata": {},
   "source": [
    "Podríamos crear un método para subir los sueldos en un 5%. Independientemente del salario independiente de cada empleado, a todos se les aumentará el salario en un 5 por ciento.\n",
    "\n",
    "**Ojo:** En el código de abajo estoy escribiendo un método. Todavía no he escrito una variable de clase."
   ]
  },
  {
   "cell_type": "code",
   "execution_count": 2,
   "metadata": {},
   "outputs": [],
   "source": [
    "class Empleado:\n",
    "    \n",
    "    def __init__(self, nombre, apellido, paga):\n",
    "        \n",
    "        self.nombre = nombre # Instancia.variable = variable\n",
    "        self.apellido = apellido\n",
    "        self.paga = paga\n",
    "        \n",
    "        # En lugar de tener self.email, podemos formarlo a partir del nombre y apellido\n",
    "        self.email = nombre + '.' + apellido + '@upy.edu.mx'\n",
    "        \n",
    "    # Crear un método para mostrar el nombre completo.\n",
    "    def nombreCompleto(self): # Para mostrar el nombre completo solo necesitamos el self (que ya tiene nombre y apellido)\n",
    "        return '{} {}'.format(self.nombre, self.apellido)\n",
    "    \n",
    "    # AUMENTO DEL SUELDO EN UN 5%\n",
    "    # Método para aumentar sueldo\n",
    "    def aplicar_aumento(self):\n",
    "        self.paga = self.paga * 1.05"
   ]
  },
  {
   "cell_type": "code",
   "execution_count": 3,
   "metadata": {},
   "outputs": [],
   "source": [
    "# Creamos la instancia\n",
    "emp_1 = Empleado(\"Armando\", \"Hoyos\", 123000)"
   ]
  },
  {
   "cell_type": "code",
   "execution_count": 4,
   "metadata": {},
   "outputs": [
    {
     "data": {
      "text/plain": [
       "123000"
      ]
     },
     "execution_count": 4,
     "metadata": {},
     "output_type": "execute_result"
    }
   ],
   "source": [
    "# Antes del aumento\n",
    "emp_1.paga"
   ]
  },
  {
   "cell_type": "code",
   "execution_count": 5,
   "metadata": {},
   "outputs": [],
   "source": [
    "# Aplicar el método en el empleado 1\n",
    "emp_1.aplicar_aumento()"
   ]
  },
  {
   "cell_type": "code",
   "execution_count": 6,
   "metadata": {},
   "outputs": [
    {
     "data": {
      "text/plain": [
       "129150.0"
      ]
     },
     "execution_count": 6,
     "metadata": {},
     "output_type": "execute_result"
    }
   ],
   "source": [
    "# Después del aumento\n",
    "emp_1.paga"
   ]
  },
  {
   "cell_type": "markdown",
   "metadata": {},
   "source": [
    "Como se puede apreciar, el código funciona como debe. Pero podríamos tener una manera más cómoda para hacer lo mismo. \n",
    "\n",
    "El *problema* aquí es que sería bastante útil poder acceder directamente al porcentaje de aumento, en lugar de tener que buscar en el código esa cifra (puede ser difícil si tienes miles de líneas de código). Lo que buscamos es poder hacer algo como esto:\n",
    "\n",
    "`emp_1.cantidad_aumento`\n",
    "\n",
    "Y como queremos que sea común a todas las instancias, también sería cómodo poder hacer algo como esto:\n",
    "\n",
    "`Empleado.cantidad_aumento`\n",
    "\n",
    "Entonces, vamos a **crear una variable de clase** que contenga la información del porcentaje de *aumento de sueldo* de **todos** los empleados:"
   ]
  },
  {
   "cell_type": "code",
   "execution_count": 7,
   "metadata": {},
   "outputs": [],
   "source": [
    "class Empleado:\n",
    "    \n",
    "    # ESTO ES VARIABLE DE CLASE\n",
    "    aumento_sueldo = 1.05\n",
    "    \n",
    "    def __init__(self, nombre, apellido, paga):\n",
    "        \n",
    "        self.nombre = nombre # Instancia.variable = variable\n",
    "        self.apellido = apellido\n",
    "        self.paga = paga\n",
    "        \n",
    "        # En lugar de tener self.email, podemos formarlo a partir del nombre y apellido\n",
    "        self.email = nombre + '.' + apellido + '@upy.edu.mx'\n",
    "        \n",
    "    # Crear un método para mostrar el nombre completo.\n",
    "    def nombreCompleto(self): # Para mostrar el nombre completo solo necesitamos el self (que ya tiene nombre y apellido)\n",
    "        return '{} {}'.format(self.nombre, self.apellido)\n",
    "    \n",
    "    # Método para aumentar sueldo\n",
    "    def aplicar_aumento(self):\n",
    "        self.paga = self.paga * aumento_sueldo # AQUÍ ESTAMOS USANDO LA VARIABLE DE CLASE QUE RECIÉN CREAMOS"
   ]
  },
  {
   "cell_type": "code",
   "execution_count": 8,
   "metadata": {},
   "outputs": [],
   "source": [
    "# Crear una instancia de la clase Empleado\n",
    "emp_1 = Empleado(\"Armando\", \"Hoyos\", 123000)"
   ]
  },
  {
   "cell_type": "code",
   "execution_count": 12,
   "metadata": {},
   "outputs": [
    {
     "ename": "NameError",
     "evalue": "name 'aumento_sueldo' is not defined",
     "output_type": "error",
     "traceback": [
      "\u001b[1;31m---------------------------------------------------------------------------\u001b[0m",
      "\u001b[1;31mNameError\u001b[0m                                 Traceback (most recent call last)",
      "\u001b[1;32m<ipython-input-12-a8a4c4813a50>\u001b[0m in \u001b[0;36m<module>\u001b[1;34m\u001b[0m\n\u001b[1;32m----> 1\u001b[1;33m \u001b[0memp_1\u001b[0m\u001b[1;33m.\u001b[0m\u001b[0maplicar_aumento\u001b[0m\u001b[1;33m(\u001b[0m\u001b[1;33m)\u001b[0m\u001b[1;33m\u001b[0m\u001b[1;33m\u001b[0m\u001b[0m\n\u001b[0m",
      "\u001b[1;32m<ipython-input-7-a38455c86e86>\u001b[0m in \u001b[0;36maplicar_aumento\u001b[1;34m(self)\u001b[0m\n\u001b[0;32m     19\u001b[0m     \u001b[1;31m# Método para aumentar sueldo\u001b[0m\u001b[1;33m\u001b[0m\u001b[1;33m\u001b[0m\u001b[1;33m\u001b[0m\u001b[0m\n\u001b[0;32m     20\u001b[0m     \u001b[1;32mdef\u001b[0m \u001b[0maplicar_aumento\u001b[0m\u001b[1;33m(\u001b[0m\u001b[0mself\u001b[0m\u001b[1;33m)\u001b[0m\u001b[1;33m:\u001b[0m\u001b[1;33m\u001b[0m\u001b[1;33m\u001b[0m\u001b[0m\n\u001b[1;32m---> 21\u001b[1;33m         \u001b[0mself\u001b[0m\u001b[1;33m.\u001b[0m\u001b[0mpaga\u001b[0m \u001b[1;33m=\u001b[0m \u001b[0mself\u001b[0m\u001b[1;33m.\u001b[0m\u001b[0mpaga\u001b[0m \u001b[1;33m*\u001b[0m \u001b[0maumento_sueldo\u001b[0m \u001b[1;31m# AQUÍ ESTAMOS USANDO LA VARIABLE DE CLASE QUE RECIÉN CREAMOS\u001b[0m\u001b[1;33m\u001b[0m\u001b[1;33m\u001b[0m\u001b[0m\n\u001b[0m",
      "\u001b[1;31mNameError\u001b[0m: name 'aumento_sueldo' is not defined"
     ]
    }
   ],
   "source": [
    "# Debe mostrar un error!\n",
    "emp_1.aplicar_aumento()"
   ]
  },
  {
   "cell_type": "markdown",
   "metadata": {},
   "source": [
    "¿Pero por qué nos tira un error? La lógica es correcta y no escribimos mal ninguna variable. \n",
    "\n",
    "Resulta que cuando queremos **acceder a las variables de clase** debemos de hacerlo **a través de la clase misma** (Clase Empleado) o a través de una instancia de la clase (`self`)\n",
    "\n",
    "Fíjate en la última línea de código."
   ]
  },
  {
   "cell_type": "code",
   "execution_count": 10,
   "metadata": {},
   "outputs": [],
   "source": [
    "class Empleado:\n",
    "    \n",
    "    # VARIABLE DE CLASE\n",
    "    aumento_sueldo = 1.05\n",
    "    \n",
    "    def __init__(self, nombre, apellido, paga):\n",
    "        \n",
    "        self.nombre = nombre # Instancia.variable = variable\n",
    "        self.apellido = apellido\n",
    "        self.paga = paga\n",
    "        \n",
    "        # En lugar de tener self.email, podemos formarlo a partir del nombre y apellido\n",
    "        self.email = nombre + '.' + apellido + '@upy.edu.mx'\n",
    "        \n",
    "    # Crear un método para mostrar el nombre completo.\n",
    "    def nombreCompleto(self): # Para mostrar el nombre completo solo necesitamos el self (que ya tiene nombre y apellido)\n",
    "        return '{} {}'.format(self.nombre, self.apellido)\n",
    "    \n",
    "    # Método para aumentar sueldo\n",
    "    def aplicar_aumento(self):\n",
    "        self.paga = int(self.paga * self.aumento_sueldo) # Acceder a la variable de clase a trevés de una instancia"
   ]
  },
  {
   "cell_type": "markdown",
   "metadata": {},
   "source": [
    "Si te fijas correctamente, notarás que en el código anterior, la última línea era:\n",
    "`self.paga = self.paga * aumento_sueldo`\n",
    "\n",
    "Y lo cambiamos por:\n",
    "`self.paga = self.paga * self.aumento_sueldo`\n",
    "\n",
    "Lo que hicimos fue **acceder a las variables de clase** desde una instancia (`self`)."
   ]
  },
  {
   "cell_type": "markdown",
   "metadata": {},
   "source": [
    "**Nota:** Si quisieramos acceder a la variable de clase **a través de la clase**, puedes usar:\n",
    "\n",
    "`self.paga = int(self.paga * EMPLEADO.aumento_sueldo)`\n",
    "\n",
    "Lo único que hicimos fue cambiar `self` por `EMPLEADO`"
   ]
  },
  {
   "cell_type": "code",
   "execution_count": 11,
   "metadata": {},
   "outputs": [],
   "source": [
    "# Una vez que hemos accesido a la variable de clase (desde una instancia),  probemos de nuevo el código\n",
    "# Crear una instancia de la clase Empleado\n",
    "emp_1 = Empleado(\"Armando\", \"Hoyos\", 123000)"
   ]
  },
  {
   "cell_type": "code",
   "execution_count": 14,
   "metadata": {},
   "outputs": [],
   "source": [
    "# Aplicar el aumento\n",
    "emp_1.aplicar_aumento()"
   ]
  },
  {
   "cell_type": "code",
   "execution_count": 13,
   "metadata": {},
   "outputs": [
    {
     "data": {
      "text/plain": [
       "129150"
      ]
     },
     "execution_count": 13,
     "metadata": {},
     "output_type": "execute_result"
    }
   ],
   "source": [
    "# Ver la nueva paga\n",
    "emp_1.paga"
   ]
  },
  {
   "cell_type": "markdown",
   "metadata": {},
   "source": [
    "Es probable que te estés preguntando por qué puedes accceder a una **variable de clase** desde una *instancia*, pero se puede expliccar de esta manera:"
   ]
  },
  {
   "cell_type": "code",
   "execution_count": 16,
   "metadata": {},
   "outputs": [
    {
     "name": "stdout",
     "output_type": "stream",
     "text": [
      "1.05\n",
      "1.05\n"
     ]
    }
   ],
   "source": [
    "# Debe imprimir lo mismo\n",
    "print(emp_1.aumento_sueldo)\n",
    "print(Empleado.aumento_sueldo)"
   ]
  },
  {
   "cell_type": "markdown",
   "metadata": {},
   "source": [
    "Cuando intentamos acceder a un **atributo** desde una instancia (En este caso, la paga con aumento), primero verificará si la instancia (`emp_1`) contiene ese atributo. Si la instancia no contiene el método que se está buscando, pasará a buscar ese método en la clase desde la cual nació la instancia. Así que, cuando se hace esto:"
   ]
  },
  {
   "cell_type": "code",
   "execution_count": 17,
   "metadata": {},
   "outputs": [
    {
     "name": "stdout",
     "output_type": "stream",
     "text": [
      "1.05\n"
     ]
    }
   ],
   "source": [
    "print(emp_1.aumento_sueldo)"
   ]
  },
  {
   "cell_type": "markdown",
   "metadata": {},
   "source": [
    "Realmente la instancia `emp_1` no contiene el atributo `aumento_sueldo`, sino que está **accediendo a la variable de clase** `aumento_sueldo` desde la clase `Empleado`."
   ]
  },
  {
   "cell_type": "code",
   "execution_count": 18,
   "metadata": {},
   "outputs": [
    {
     "data": {
      "text/plain": [
       "{'nombre': 'Armando',\n",
       " 'apellido': 'Hoyos',\n",
       " 'paga': 135607,\n",
       " 'email': 'Armando.Hoyos@upy.edu.mx'}"
      ]
     },
     "execution_count": 18,
     "metadata": {},
     "output_type": "execute_result"
    }
   ],
   "source": [
    "# Esta línea muestra los atributos de la instancia emp_1\n",
    "emp_1.__dict__"
   ]
  },
  {
   "cell_type": "markdown",
   "metadata": {},
   "source": [
    "Con el código de arriba te darás cuenta de que, efectivamente, `aumento_sueldo` no forma parte de los atributos de `emp_1`."
   ]
  },
  {
   "cell_type": "code",
   "execution_count": 20,
   "metadata": {},
   "outputs": [
    {
     "data": {
      "text/plain": [
       "mappingproxy({'__module__': '__main__',\n",
       "              'aumento_sueldo': 1.05,\n",
       "              '__init__': <function __main__.Empleado.__init__(self, nombre, apellido, paga)>,\n",
       "              'nombreCompleto': <function __main__.Empleado.nombreCompleto(self)>,\n",
       "              'aplicar_aumento': <function __main__.Empleado.aplicar_aumento(self)>,\n",
       "              '__dict__': <attribute '__dict__' of 'Empleado' objects>,\n",
       "              '__weakref__': <attribute '__weakref__' of 'Empleado' objects>,\n",
       "              '__doc__': None})"
      ]
     },
     "execution_count": 20,
     "metadata": {},
     "output_type": "execute_result"
    }
   ],
   "source": [
    "Empleado.__dict__ # Aquí verás que \"aumento_sueldo\" SÍ pertenece a la clase Empleado"
   ]
  },
  {
   "cell_type": "markdown",
   "metadata": {},
   "source": [
    "### Cómo aprovechar las variables de clase."
   ]
  },
  {
   "cell_type": "markdown",
   "metadata": {},
   "source": [
    "En este ejemplo, podemos actualizar (tanto en la clase como en las instancias) el porcentaje de aumento."
   ]
  },
  {
   "cell_type": "code",
   "execution_count": 22,
   "metadata": {},
   "outputs": [
    {
     "name": "stdout",
     "output_type": "stream",
     "text": [
      "1.05\n",
      "1.05\n"
     ]
    }
   ],
   "source": [
    "# Antes de actualizar\n",
    "print(emp_1.aumento_sueldo)\n",
    "print(Empleado.aumento_sueldo)"
   ]
  },
  {
   "cell_type": "code",
   "execution_count": 23,
   "metadata": {},
   "outputs": [],
   "source": [
    "# Actualizar el porcentaje\n",
    "Empleado.aumento_sueldo = 1.07"
   ]
  },
  {
   "cell_type": "markdown",
   "metadata": {},
   "source": [
    "Lo que acabamos de hacer es actualizar, para toda la clase, la **variable de clase** `aumento_sueldo` a `1.07`. Ahora, cada vez que creemos una instancia de la clase `Empleado` y queramos acceder al atributo `aumento_sueldo`, éste será `1.07`."
   ]
  },
  {
   "cell_type": "code",
   "execution_count": 24,
   "metadata": {},
   "outputs": [
    {
     "name": "stdout",
     "output_type": "stream",
     "text": [
      "1.07\n",
      "1.07\n"
     ]
    }
   ],
   "source": [
    "# Después de actualizar\n",
    "print(emp_1.aumento_sueldo)\n",
    "print(Empleado.aumento_sueldo)"
   ]
  },
  {
   "cell_type": "markdown",
   "metadata": {},
   "source": [
    "¿Qué pasaría si quisieramos actualizar el porcentaje (`aumento_sueldo`) desde una instancia?"
   ]
  },
  {
   "cell_type": "code",
   "execution_count": 25,
   "metadata": {},
   "outputs": [],
   "source": [
    "# Actualizar variable de clase, desde instancia\n",
    "emp_1.aumento_sueldo = 2.0"
   ]
  },
  {
   "cell_type": "code",
   "execution_count": 26,
   "metadata": {},
   "outputs": [
    {
     "name": "stdout",
     "output_type": "stream",
     "text": [
      "2.0\n",
      "1.07\n"
     ]
    }
   ],
   "source": [
    "print(emp_1.aumento_sueldo)\n",
    "print(Empleado.aumento_sueldo)"
   ]
  },
  {
   "cell_type": "markdown",
   "metadata": {},
   "source": [
    "La variable de clase `aumento_sueldo` ahora será diferente para nuestro empleado 1, pero si creamos más instancias de la clase `Empleado`, por defecto `aumento_sueldo` seguirá siendo lo que definimos en un principio. Esto es útil si queremos que **sólo una instancia de la clase tenga otro comportamiento**."
   ]
  },
  {
   "cell_type": "markdown",
   "metadata": {},
   "source": [
    "Esto no quiere decir que las vaiables de clase sean inútiles. Aquí tienes un ejemplo de como podemos usar una variable de clase que no tenga que cambiar para una instancia específica:\n",
    "\n",
    "Agregamos una variable de clase que contenga el número de empleados (empezando en 0) y que vaya sumando 1 cada vez que se cree una instancia de la clase Empleado (Fíjate en las líneas de código cuyos comentarios están en letras mayúsculas):"
   ]
  },
  {
   "cell_type": "code",
   "execution_count": 32,
   "metadata": {},
   "outputs": [],
   "source": [
    "class Empleado:\n",
    "    \n",
    "    # VARIABLE DE CLASE\n",
    "    num_empleados = 0 # AQUÍ GUARDAREMOS EL NÚMERO DE EMPLEADOS\n",
    "    aumento_sueldo = 1.05\n",
    "    \n",
    "    def __init__(self, nombre, apellido, paga):\n",
    "        \n",
    "        self.nombre = nombre # Instancia.variable = variable\n",
    "        self.apellido = apellido\n",
    "        self.paga = paga\n",
    "        \n",
    "        # En lugar de tener self.email, podemos formarlo a partir del nombre y apellido\n",
    "        self.email = nombre + '.' + apellido + '@upy.edu.mx'\n",
    "        \n",
    "        # AGREGAR UN EMPLEADO AL CONTADOR CADA VEZ QUE SE TENGA UNA NUEVA INSTANCIA DE LA CLASE\n",
    "        Empleado.num_empleados += 1\n",
    "        \n",
    "    # Crear un método para mostrar el nombre completo.\n",
    "    def nombreCompleto(self): # Para mostrar el nombre completo solo necesitamos el self (que ya tiene nombre y apellido)\n",
    "        return '{} {}'.format(self.nombre, self.apellido)\n",
    "    \n",
    "    # Método para aumentar sueldo\n",
    "    def aplicar_aumento(self):\n",
    "        self.paga = int(self.paga * self.aumento_sueldo) # Acceder a la variable de clase a trevés de una instancia"
   ]
  },
  {
   "cell_type": "code",
   "execution_count": 33,
   "metadata": {},
   "outputs": [
    {
     "data": {
      "text/plain": [
       "0"
      ]
     },
     "execution_count": 33,
     "metadata": {},
     "output_type": "execute_result"
    }
   ],
   "source": [
    "# Número inicial de empleados\n",
    "Empleado.num_empleados"
   ]
  },
  {
   "cell_type": "code",
   "execution_count": 34,
   "metadata": {},
   "outputs": [],
   "source": [
    "# Crear dos empleados\n",
    "emp_1 = Empleado(\"Armando\", \"Hoyos\", 123000)\n",
    "emp_2 = Empleado(\"Ernesto\", \"Perez\", 32900)"
   ]
  },
  {
   "cell_type": "code",
   "execution_count": 35,
   "metadata": {},
   "outputs": [
    {
     "data": {
      "text/plain": [
       "2"
      ]
     },
     "execution_count": 35,
     "metadata": {},
     "output_type": "execute_result"
    }
   ],
   "source": [
    "# Nuevo número de empleados\n",
    "Empleado.num_empleados"
   ]
  },
  {
   "cell_type": "markdown",
   "metadata": {},
   "source": [
    "Hasta aquí llega esta lección. Pronto estaré subiendo la siguiente parte. Cualquier comentario/sugerencia es bienvenida.\n",
    "\n",
    "Esta notebook fue hecha por [Alan Peraza](https://www.github.com/alanperaza)"
   ]
  },
  {
   "cell_type": "code",
   "execution_count": null,
   "metadata": {},
   "outputs": [],
   "source": []
  }
 ],
 "metadata": {
  "kernelspec": {
   "display_name": "Python 3",
   "language": "python",
   "name": "python3"
  },
  "language_info": {
   "codemirror_mode": {
    "name": "ipython",
    "version": 3
   },
   "file_extension": ".py",
   "mimetype": "text/x-python",
   "name": "python",
   "nbconvert_exporter": "python",
   "pygments_lexer": "ipython3",
   "version": "3.7.4"
  }
 },
 "nbformat": 4,
 "nbformat_minor": 2
}
